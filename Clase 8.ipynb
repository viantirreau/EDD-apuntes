{
 "nbformat": 4,
 "nbformat_minor": 2,
 "metadata": {
  "language_info": {
   "name": "python",
   "codemirror_mode": {
    "name": "ipython",
    "version": 3
   }
  },
  "orig_nbformat": 2,
  "file_extension": ".py",
  "mimetype": "text/x-python",
  "name": "python",
  "npconvert_exporter": "python",
  "pygments_lexer": "ipython3",
  "version": 3
 },
 "cells": [
  {
   "cell_type": "markdown",
   "metadata": {},
   "source": [
    "$\\newcommand{\\O}[1]{\\mathcal{O}({#1})}$\n",
    "\n",
    "# Diccionarios\n",
    "\n",
    "- Asociar un valor a una clave\n",
    "- Obtener el valor asociado a una clave\n",
    "- Eliminar del diccionario una clave y su valor asociado (en algunos casos)\n",
    "\n",
    "Skip lists: listas de salto. Arreglo con punteros a posiciones críticas dentro de la lista. Cambian según la frecuencia de consultas, probabilísticas.\n",
    "\n",
    "# Árbol binario de búsqueda (ABB)\n",
    "\n",
    "Es un diccionario que guarda tuplas $(k,v)$ organizadas en nodos de forma recursiva. A diferencia de los `heaps`, en los que los padres son siempre mayores (Max) o menores (Min) que los hijos, el ABB ordena las claves dejando en cada nodo un par $(k,v)$, en su árbol izquierdo todos los menores a su clave y en el derecho a todos los mayores.\n",
    "\n",
    "No se ordenan por niveles necesariamente. Sí importa que todos los _keys_ menores a un nodo dado se encuentran en el árbol izquierdo y viceversa.\n",
    "\n"
   ]
  },
  {
   "cell_type": "markdown",
   "metadata": {},
   "source": [
    "## Operaciones de solo lectura\n",
    "```C\n",
    "search(A,k){\n",
    "    if (not A)\n",
    "        return NULL;\n",
    "    if (A->head == k):\n",
    "        return A->value;\n",
    "    if (k < A->head):\n",
    "        return search(A->head->left, k);\n",
    "    else:\n",
    "        return search(A->head->right, k);\n",
    "}\n",
    "    \n",
    "```\n",
    "\n",
    "## Operaciones que modifican el ABB\n",
    "- Insertar key,value\n",
    "- Eliminar key,value\n",
    "\n",
    "Hay que asegurar consistencia del ABB luego de ejecutar alguna de las anteriores."
   ]
  },
  {
   "cell_type": "code",
   "execution_count": null,
   "metadata": {},
   "outputs": [],
   "source": []
  }
 ]
}