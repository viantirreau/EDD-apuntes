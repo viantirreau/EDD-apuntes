{
 "cells": [
  {
   "cell_type": "markdown",
   "metadata": {},
   "source": [
    "$\\newcommand{\\O}[1]{\\mathcal{O}({#1})}$\n",
    "\n",
    "# Repaso árboles rojo-negro\n",
    "\n",
    "Recordemos los árboles 2-3. Son árboles no-binarios, balanceados. Tienen la desventaja de que la inserción tiene bastante _overhead_, ya que, en ciertas ocasiones, debemos cambiar un nodo 2 a nodo 3, o viceversa.\n",
    "\n",
    "\n",
    "En un árbol rojo-negro construido a partir de un 2-3, la rama más larga nunca está a más que el doble de profundidad que la más corta. Esto se debe a que los árboles 2-3 ya son auto-balanceados, y en el peor de los casos, si tocan muchos nodos 3 consecutivos (cada uno se ve como A|B), este se traducirá a un nodo con un hijo, duplicando la altura respecto al árbol 2-3.\n",
    "Con esto, seguimos cumpliendo la cota de altura logarítmica en el número de nodos."
   ]
  },
  {
   "cell_type": "markdown",
   "metadata": {},
   "source": [
    "# Inserción en árbol rojo-negro\n",
    "\n",
    "Si traducimos un árbol 2-3 a un rojo-negro, al momento de insertar un dato, debemos emular lo que sería la inserción en un árbol 2-3 en el rojo-negro. Para poder ejecutar esta tarea, debemos almacenar el color de cada nodo.\n",
    "\n",
    "**Nota del público**: si tenemos un nodo negro con dos hijos rojos, no podremos volver al árbol 2-3. Tampoco hay una regla que lo impida. Es decir, hay árboles rojo-negro que no siempre se pueden traducir a 2-3. Al rescate vienen los árboles 2-4 (también llamados árboles 2-3-4). Estos siempre son un mapeo directo desde un árbol rojo negro. Sigue siendo árbol de búsqueda.\n",
    "\n",
    "- Un nodo negro sin hijos rojos equivale a un nodo 2.\n",
    "- Un nodo negro con un hijo rojo equivale a un nodo 3.\n",
    "- Un nodo negro con 2 hijos rojos equivale a un nodo 4.\n",
    "\n",
    "Funcionan un poco más eficientemente que los árboles AVL, pero en tiempo asintótico, son iguales.\n",
    "\n",
    "En los árboles 2-3 y 2-3-4, las inserciones siempre se realizan en las hojas, propagando el rebalanceo a la raíz hasta restaurar las propiedades de balance.\n",
    "En el rojo-negro, ¿de qué color debemos insertar un nodo? Si lo insertamos en negro, siempre romperíamos la propiedad de `igual cantidad de negros en un camino raíz-hojas. No queda más opción que ingresar todos con color rojo. Ahora, es probable que violemos la propiedad de no tener dos rojos seguidos (pero no siempre, solo si se inserta como hijo de un rojo).\n",
    "\n",
    "En cualquier caso, esta propiedad es mucho más local que la de igual cantidad de negros hasta la raíz. A lo más debemos ajustar uno o dos nodos antecesores al recién ingresado.\n",
    "\n",
    "### Inserción en extremos de nodos-3 y conversión a nodo-4\n",
    "#### 1 rotación y cambio de color\n",
    "\n",
    "Si ingresamos una hoja al extremo derecho o izquierdo de un nodo 3 (podemos ingresarlo directamente convirtiendo a nodo 4), en el árbol rojo-negro equivalente lo ingresamos como hoja izquierda del menor (en caso de inserción a la izquierda), o como hijo derecho del mayor, en caso de inserción a la derecha en el nodo-4.\n",
    "\n",
    "Ahora, verificamos si el padre era rojo. Si era negro, estamos listos (está balanceado). En el otro caso, tendríamos 2 rojos seguidos, ya que siempre insertamos rojo. Verificamos si el tío es negro (por defecto negro si no existe), y ahora sabemos que venimos de un caso nodo-4 con inserción en un extremo. Si es el caso, resolvemos un desbalance con una rotación del abuelo y el padre del insertado. Además, cambiamos el color del padre a negro y al ex-abuelo (ahora hermano) a rojo.\n"
   ]
  },
  {
   "cell_type": "markdown",
   "metadata": {},
   "source": [
    "### Inserción en centro de nodos-3 y conversión a nodo-4\n",
    "#### 2 rotaciones y cambio de color\n",
    "\n",
    "Insertamos el nodo en rojo y verificamos si el padre es rojo. Si es el caso, veremos que el tío es negro o inexistente (negro también). Hacemos una rotación padre-hijo, ya que el insertado en el nodo-4 ahora quedó al medio, y otra rotación más con el padre actual (nodo izquierdo del nodo-4). Ahora tendremos como padre al nodo central, hijo izquierdo al menor e hijo derecho al mayor. Además, tanto el medio como el mayor siguen rojos. Solo debemos cambiar el hijo izquierdo a rojo y el padre (central) a negro, para conservar la propiedad de igual cantidad de negros desde la raíz a las hojas.\n",
    "\n",
    "### Inserción en nodos-4\n",
    "#### Cambio de color recursivo\n",
    "En este caso, tendremos una inserción en que el padre y el tío son rojos, y el abuelo negro. Solo debemos dejar el padre y el tío negro, y el abuelo rojo. Si el padre del abuelo también es rojo, debemos revisar ese subárbol de nuevo para el caso de que el tío del abuelo sea negro o rojo. Si el tío del abuelo es negro, vamos al caso Inserción en extremos (resolver con rotación + cambios de color). Si es rojo, se repite lo actual, y resovemos cambiando de color los intermedios (a negros) y el abuelo queda rojo.\n",
    "Finalmente, si una raíz queda roja y sus dos hijos negros, se cambia la raíz a negro.\n"
   ]
  },
  {
   "cell_type": "code",
   "execution_count": null,
   "metadata": {},
   "outputs": [],
   "source": []
  }
 ],
 "metadata": {
  "language_info": {
   "codemirror_mode": {
    "name": "ipython",
    "version": 3
   },
   "file_extension": ".py",
   "mimetype": "text/x-python",
   "name": "python",
   "nbconvert_exporter": "python",
   "pygments_lexer": "ipython3",
   "version": 3
  },
  "orig_nbformat": 2
 },
 "nbformat": 4,
 "nbformat_minor": 2
}