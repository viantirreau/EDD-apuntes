{
 "nbformat": 4,
 "nbformat_minor": 2,
 "metadata": {
  "language_info": {
   "name": "python",
   "codemirror_mode": {
    "name": "ipython",
    "version": 3
   },
   "version": "3.7.5-final"
  },
  "orig_nbformat": 2,
  "file_extension": ".py",
  "mimetype": "text/x-python",
  "name": "python",
  "npconvert_exporter": "python",
  "pygments_lexer": "ipython3",
  "version": 3,
  "kernelspec": {
   "name": "python37564bit1be7587ba0bd4d7e855334655e036327",
   "display_name": "Python 3.7.5 64-bit"
  }
 },
 "cells": [
  {
   "cell_type": "markdown",
   "metadata": {},
   "source": [
    "# Secuencias ordenadas y algoritmos de ordenamiento\n",
    "\n",
    "Un algoritmo es correcto si:\n",
    "- Termina en una cantidad finita de pasos\n",
    "- Cumple su propósito: **ordena** los datos\n",
    "\n",
    "## Selection Sort\n",
    "\n",
    "- $\\mathcal{O}(n^2)$\n",
    "\n",
    "Ejemplo ovejas:\n",
    "- A lo más recorrerá la lista de ovejas $n$ veces, si $n$ es el número de ovejas\n",
    "- Inducción: demostrar que después de cada paso, la nueva lista está ordenada\n",
    "    - **BI**: $n = 1$ es trivial, ya está ordenado\n",
    "    - **HI**: $\\forall k < n$, se cumple\n",
    "    - **TI**: Para la oveja $A[k = n]$, sabemos que todas las menores a k (A\\[$i; i<k$\\])\n",
    "    ya fueron agregadas.\n",
    "\n",
    "Luego, A\\[k\\] $>=$ A\\[$i$\\] $\\forall i < k$\n",
    "\n",
    "_Selection Sort_ es _in place_, ya que cada vez que saco un elemento de la lista desordenada\n",
    "lo muevo a la ordenada, manteniendo la memoria constante"
   ]
  },
  {
   "cell_type": "markdown",
   "metadata": {},
   "source": [
    "## Insertion Sort\n",
    "1. Secuencia desordenada A\n",
    "2. Secuencia B vacía (técnicamente ordenada)\n",
    "3. Tomo $x$ = A\\[0\\] y lo saco de A\n",
    "4. Inserto $x$ en B en la posición adecuada para que B siga ordenado\n",
    "5. Si A tiene elementos, `goto 2`\n",
    "\n",
    "B siempre se mantiene ordenado, luego es correcto. Además, es finito, porque A tiene $n$ datos, por lo que solo se pasará por el paso 2 hasta $n$ veces.\n",
    "\n",
    "### Finitud\n",
    "\n",
    "- En cada paso se saca un elemento de A\n",
    "- Cuando no quedan elementos en A, el algoritmo termina\n",
    "- La inserción requiere como máximo recorrer todo B\n",
    "- Como A y B son finitos, el algoritmo termina en tiempo finito\n",
    "\n",
    "### Correctitud\n",
    "\n",
    "- **BI**: Después del paso 1, B tiene un solo dato $\\rightarrow$ B está ordenada \n",
    "- **HI**: Después del paso $i$, B está ordenada\n",
    "- **TI**: En el paso $i+1$ extraemos el primer elemento de A y lo insertamos ordenadamente en B. Si la inserción fue correcta, entonces B está ordenada\n",
    "\n",
    "En particular, al terminar el algoritmo después del paso $n$, B está ordenada.\n",
    "Se suelen usar arreglos, pero también funcionan arreglos y listas ligadas. En ningún caso necesita memoria adicional, ya que también es _in place_.\n",
    "\n",
    "La complejidad en listas ligadas y en _arrays_ es igualmente $\\mathcal{O}(n^2)$, ya que se hacen $n$ inserciones en $\\mathcal{O}(n)$"
   ]
  },
  {
   "cell_type": "markdown",
   "metadata": {},
   "source": [
    "### Inserción en _arrays_ y listas ligadas\n",
    "\n",
    "- _Arrays_\n",
    "  - Se puede encontrar la posición en $\\mathcal{O}(log n)$ si se usa búsqueda binaria\n",
    "  - Pero una vez que se inserte, debemos desplazar todo el array, lo que es $\\mathcal{O}(n)$\n",
    "  - Luego, la inserción es $\\mathcal{O}(n)$\n",
    "\n",
    "- Listas (doblemente) ligadas \n",
    "  - Para el primer paso (búsqueda), debo revisar la lista entera $\\rightarrow \\mathcal{O}(n)$\n",
    "  - Cuando encontramos el nodo donde se debe insertar, esto es $\\mathcal{O}(1)$\n",
    "  - Luego, la inserción es $\\mathcal{O}(n)$"
   ]
  },
  {
   "cell_type": "code",
   "execution_count": null,
   "metadata": {},
   "outputs": [],
   "source": []
  }
 ]
}